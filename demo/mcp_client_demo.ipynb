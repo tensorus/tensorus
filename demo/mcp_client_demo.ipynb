{
 "cells": [
  {
   "cell_type": "markdown",
   "metadata": {},
   "source": [
    "# Tensorus MCP Client Demo\n",
    "\n",
    "This notebook demonstrates basic usage of `TensorusMCPClient` for creating datasets, ingesting tensors, and running simple queries against the default MCP server."
   ]
  },
  {
   "cell_type": "code",
   "metadata": {},
   "execution_count": null,
   "outputs": [],
   "source": [
    "from tensorus.mcp_client import TensorusMCPClient"
   ]
  },
  {
   "cell_type": "code",
   "metadata": {},
   "execution_count": null,
   "outputs": [],
   "source": [
    "import asyncio\n",
    "\n",
    "async def demo():\n",
    "    async with TensorusMCPClient.from_http() as client:\n",
    "        create_resp = await client.create_dataset(\"demo_ds\")\n",
    "        print(\"Create dataset:\", create_resp)\n",
    "\n",
    "        ingest_resp = await client.ingest_tensor(\n",
    "            dataset_name=\"demo_ds\",\n",
    "            tensor_shape=[2, 2],\n",
    "            tensor_dtype=\"float32\",\n",
    "            tensor_data=[[1.0, 2.0], [3.0, 4.0]],\n",
    "            metadata={\"source\": \"demo\"}\n",
    "        )\n",
    "        print(\"Ingest tensor:\", ingest_resp)\n",
    "\n",
    "        datasets = await client.list_datasets()\n",
    "        print(\"Datasets:\", datasets.datasets)\n",
    "\n",
    "        details = await client.get_tensor_details(\"demo_ds\", ingest_resp.id)\n",
    "        print(\"Tensor details:\", details)\n",
    "\n",
    "        count = await client.execute_nql_query(\"count\")\n",
    "        print(\"NQL count result:\", count.results)\n",
    "\n",
    "await demo()"
   ]
  }
 ],
 "metadata": {
  "kernelspec": {
   "display_name": "Python 3",
   "language": "python",
   "name": "python3"
  },
  "language_info": {
   "name": "python",
   "pygments_lexer": "ipython3"
  }
 },
 "nbformat": 4,
 "nbformat_minor": 5
}
