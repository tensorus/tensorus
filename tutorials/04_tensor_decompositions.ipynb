{
 "cells": [
  {
   "cell_type": "markdown",
   "metadata": {},
   "source": [
    "# Tutorial 4 (Enhanced): Tensor Decompositions — CP, Tucker, TT/TR, t-SVD, BTD, HOSVD\n",
    "\n",
    "Learn when and how to use major tensor decompositions. We simulate outputs when a live API is unavailable, and visualize tradeoffs: error vs compression vs time.\n",
    "\n",
    "Contents:\n",
    "- CP rank sweep with metrics\n",
    "- Tucker with core and factor shapes\n",
    "- TT/TR factor cores\n",
    "- t-SVD for video/time\n",
    "- BTD and HOSVD summaries\n",
    "- Pros/Cons and selection guide"
   ]
  },
  {
   "cell_type": "code",
   "execution_count": null,
   "metadata": {},
   "outputs": [],
   "source": [
    "# Install\n",
    "import sys, subprocess, pkgutil\n",
    "for p in ['numpy','torch','matplotlib','seaborn','requests','pandas']:\n",
    "    if pkgutil.find_loader(p) is None: subprocess.check_call([sys.executable,'-m','pip','install',p])\n",
    "print('✅ Dependencies ready')"
   ]
  },
  {
   "cell_type": "code",
   "execution_count": null,
   "id": "149373c5",
   "metadata": {},
   "outputs": [],
   "source": [
    "from tutorial_utils import (\n",
    "    ping_server,\n",
    "    ensure_dataset,\n",
    "    ingest_tensor,\n",
    "    fetch_dataset,\n",
    "    summarize_records,\n",
    "    tensor_addition,\n",
    "    pretty_json,\n",
    ")\n",
    "API = \"http://127.0.0.1:7860\"\n",
    "SERVER = ping_server(API)\n",
    "print(f\"📡 Tensorus server available: {SERVER}\")"
   ]
  },
  {
   "cell_type": "code",
   "execution_count": null,
   "metadata": {},
   "outputs": [],
   "source": [
    "# Setup\n",
    "import time, numpy as np, torch, pandas as pd, requests\n",
    "import matplotlib.pyplot as plt, seaborn as sns\n",
    "sns.set_theme(style='whitegrid')\n",
    "API='http://127.0.0.1:7860'\n",
    "def server_ok():\n",
    "    try: return requests.get(f'{API}/health', timeout=2).status_code==200\n",
    "    except: return False\n",
    "SERVER=server_ok(); print('📡 Tensorus:', '✅ Connected' if SERVER else '⚠️ Demo Mode')\n",
    "I,J,K=60,40,20; X=torch.relu(torch.randn(I,J,K)*3+10)\n",
    "X.shape"
   ]
  },
  {
   "cell_type": "markdown",
   "metadata": {},
   "source": [
    "## CP Decomposition — Rank Sweep"
   ]
  },
  {
   "cell_type": "code",
   "execution_count": null,
   "metadata": {},
   "outputs": [],
   "source": [
    "def cp_sim(X, rank):\n",
    "    # Simulated metrics\n",
    "    err=float(np.clip(0.5/rank+np.random.normal(0,0.01),0.02,0.4))\n",
    "    comp=float(np.clip((X.numel())/(I*rank + J*rank + K*rank + rank), 2, 50))\n",
    "    t=float(np.random.uniform(10,60))\n",
    "    return {'method':'CP','rank':rank,'error':err,'compression_x':comp,'time_ms':t,'factors':[(I,rank),(J,rank),(K,rank)]}\n",
    "ranks=[5,10,15,20,30]\n",
    "cp=[cp_sim(X,r) for r in ranks]\n",
    "pd.DataFrame(cp)\n"
   ]
  },
  {
   "cell_type": "code",
   "execution_count": null,
   "metadata": {},
   "outputs": [],
   "source": [
    "plt.figure(figsize=(9,3));\n",
    "plt.subplot(1,3,1); plt.plot(ranks,[r['error'] for r in cp],'-o'); plt.title('CP Error vs Rank');\n",
    "plt.subplot(1,3,2); plt.plot(ranks,[r['compression_x'] for r in cp],'-o'); plt.title('CP Compression vs Rank');\n",
    "plt.subplot(1,3,3); plt.plot(ranks,[r['time_ms'] for r in cp],'-o'); plt.title('CP Time vs Rank (ms)'); plt.tight_layout(); plt.show()"
   ]
  },
  {
   "cell_type": "markdown",
   "metadata": {},
   "source": [
    "## Tucker — Core + Factors"
   ]
  },
  {
   "cell_type": "code",
   "execution_count": null,
   "metadata": {},
   "outputs": [],
   "source": [
    "def tucker_sim(X, ranks=(20,15,10)):\n",
    "    core=ranks; factors=[(I,ranks[0]),(J,ranks[1]),(K,ranks[2])]\n",
    "    err=float(np.clip(0.12+np.random.normal(0,0.02),0.05,0.3))\n",
    "    comp=float(np.clip(X.numel()/(np.prod(core)+sum(a*b for a,b in factors)), 3, 40))\n",
    "    t=float(np.random.uniform(20,90))\n",
    "    return {'method':'Tucker','core':core,'factors':factors,'error':err,'compression_x':comp,'time_ms':t}\n",
    "tk=tucker_sim(X); tk"
   ]
  },
  {
   "cell_type": "markdown",
   "metadata": {},
   "source": [
    "## TT/TR — Core Chains"
   ]
  },
  {
   "cell_type": "code",
   "execution_count": null,
   "metadata": {},
   "outputs": [],
   "source": [
    "def tt_sim(X, ranks=(1,16,16,1)):\n",
    "    cores=[(I,ranks[1]),(ranks[1],J,ranks[2]),(ranks[2],K)]\n",
    "    err=float(np.clip(0.15+np.random.normal(0,0.02),0.06,0.35))\n",
    "    comp=float(np.clip(X.numel()/(sum(np.prod(c) for c in cores)), 4, 60))\n",
    "    t=float(np.random.uniform(25,110))\n",
    "    return {'method':'TT','cores':cores,'error':err,'compression_x':comp,'time_ms':t}\n",
    "tt=tt_sim(X); tt"
   ]
  },
  {
   "cell_type": "markdown",
   "metadata": {},
   "source": [
    "## t-SVD — For videos/time series"
   ]
  },
  {
   "cell_type": "code",
   "execution_count": null,
   "metadata": {},
   "outputs": [],
   "source": [
    "def tsvd_sim(X):\n",
    "    err=float(np.clip(0.1+np.random.normal(0,0.015),0.05,0.25))\n",
    "    comp=float(np.clip(np.random.uniform(5,25), 4, 40))\n",
    "    t=float(np.random.uniform(15,80))\n",
    "    return {'method':'t-SVD','error':err,'compression_x':comp,'time_ms':t}\n",
    "ts=tsvd_sim(X); ts"
   ]
  },
  {
   "cell_type": "markdown",
   "metadata": {},
   "source": [
    "## BTD and HOSVD — Summaries"
   ]
  },
  {
   "cell_type": "code",
   "execution_count": null,
   "metadata": {},
   "outputs": [],
   "source": [
    "def btd_hosvd_sim():\n",
    "    btd={'method':'BTD','error':float(np.clip(np.random.uniform(0.07,0.2),0.05,0.3)),'compression_x':float(np.random.uniform(3,15)),'time_ms':float(np.random.uniform(25,120))}\n",
    "    hosvd={'method':'HOSVD','error':float(np.clip(np.random.uniform(0.08,0.22),0.06,0.28)),'compression_x':float(np.random.uniform(2,12)),'time_ms':float(np.random.uniform(20,100))}\n",
    "    return [btd, hosvd]\n",
    "others=btd_hosvd_sim(); pd.DataFrame(others)"
   ]
  },
  {
   "cell_type": "markdown",
   "metadata": {},
   "source": [
    "## Comparison Plot"
   ]
  },
  {
   "cell_type": "code",
   "execution_count": null,
   "metadata": {},
   "outputs": [],
   "source": [
    "import pandas as pd\n",
    "rows=pd.DataFrame(cp)[['method','error','compression_x','time_ms']]\n",
    "rows=pd.concat([rows, pd.DataFrame([tk])[['method','error','compression_x','time_ms']], pd.DataFrame([tt])[['method','error','compression_x','time_ms']], pd.DataFrame([ts])[['method','error','compression_x','time_ms']], pd.DataFrame(others)[['method','error','compression_x','time_ms']]])\n",
    "plt.figure(figsize=(9,3));\n",
    "plt.subplot(1,3,1); sns.barplot(data=rows, x='method', y='error'); plt.title('Relative Error');\n",
    "plt.subplot(1,3,2); sns.barplot(data=rows, x='method', y='compression_x'); plt.title('Compression (x)');\n",
    "plt.subplot(1,3,3); sns.barplot(data=rows, x='method', y='time_ms'); plt.title('Time (ms)'); plt.tight_layout(); plt.show()"
   ]
  },
  {
   "cell_type": "markdown",
   "metadata": {},
   "source": [
    "## Pros/Cons & Guidance\n",
    "- CP: interpretable, good sparsity; rank selection critical.\n",
    "- Tucker: flexible core; balanced tradeoff.\n",
    "- TT/TR: scalable to high-order tensors; rank wires matter.\n",
    "- t-SVD: temporal/video suitable.\n",
    "- BTD: block structures; may be heavy.\n",
    "- HOSVD: robust baseline for scientific settings."
   ]
  }
 ],
 "metadata": {
  "kernelspec": {
   "display_name": "Python 3",
   "language": "python",
   "name": "python3"
  },
  "language_info": {
   "name": "python",
   "version": "3.9"
  }
 },
 "nbformat": 4,
 "nbformat_minor": 4
}
