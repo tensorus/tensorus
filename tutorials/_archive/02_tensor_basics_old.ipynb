{
 "cells": [
  {
   "cell_type": "markdown",
   "metadata": {},
   "source": [
    "# Tutorial 2: Tensor Basics\n",
    "\n",
    "This notebook introduces tensors from 0D to 4D+, including creation, inspection, basic math, visualization, and a minimal store/retrieve flow with the Tensorus API (falls back to demo mode when the server is not available)."
   ]
  },
  {
   "cell_type": "code",
   "execution_count": null,
   "metadata": {},
   "outputs": [],
   "source": [
    "# Lightweight install cell (safe to re-run)\n",
    "import sys, subprocess, pkgutil\n",
    "packages = ['numpy','torch','matplotlib','seaborn','requests']\n",
    "for p in packages:\n",
    "    if pkgutil.find_loader(p) is None:\n",
    "        print(f'Installing {p} ...')\n",
    "        subprocess.check_call([sys.executable, '-m', 'pip', 'install', p])\n",
    "print('✅ Dependencies ready')"
   ]
  },
  {
   "cell_type": "code",
   "execution_count": null,
   "metadata": {},
   "outputs": [],
   "source": [
    "# Setup and helpers\n",
    "import torch, numpy as np, requests, json\n",
    "import matplotlib.pyplot as plt, seaborn as sns\n",
    "sns.set_theme(style='whitegrid')\n",
    "TENSORUS_API_URL = 'http://127.0.0.1:7860'\n",
    "def server_ok():\n",
    "    try:\n",
    "        r = requests.get(f'{TENSORUS_API_URL}/health', timeout=2)\n",
    "        return r.status_code == 200\n",
    "    except Exception:\n",
    "        return False\n",
    "SERVER = server_ok()\n",
    "print('📡 Tensorus:', '✅ Connected' if SERVER else '⚠️ Demo Mode')"
   ]
  },
  {
   "cell_type": "markdown",
   "metadata": {},
   "source": [
    "## 0D (Scalar)"
   ]
  },
  {
   "cell_type": "code",
   "execution_count": null,
   "metadata": {},
   "outputs": [],
   "source": [
    "temperature = torch.tensor(23.5)\n",
    "price = torch.tensor(99.99)\n",
    "print('Scalar:', temperature, '| dtype:', temperature.dtype, '| shape:', tuple(temperature.shape))\n",
    "print('Fahrenheit:', (temperature * 9/5 + 32).item())"
   ]
  },
  {
   "cell_type": "markdown",
   "metadata": {},
   "source": [
    "## 1D (Vector)"
   ]
  },
  {
   "cell_type": "code",
   "execution_count": null,
   "metadata": {},
   "outputs": [],
   "source": [
    "stock = torch.tensor([100.0, 105.2, 98.7, 102.1, 110.5, 108.9, 115.3])\n",
    "daily_returns = (stock[1:] - stock[:-1]) / stock[:-1] * 100\n",
    "print('Vector shape:', tuple(stock.shape), 'norm:', torch.norm(stock).item())\n",
    "print('Daily returns %:', daily_returns)\n",
    "plt.figure(); plt.plot(stock.numpy()); plt.title('Stock Prices'); plt.show()"
   ]
  },
  {
   "cell_type": "markdown",
   "metadata": {},
   "source": [
    "## 2D (Matrix)"
   ]
  },
  {
   "cell_type": "code",
   "execution_count": null,
   "metadata": {},
   "outputs": [],
   "source": [
    "A = torch.randn(4, 4)\n",
    "B = torch.randn(4, 4)\n",
    "C = A @ B\n",
    "print('A shape:', tuple(A.shape), 'det(A):', torch.det(A).item())\n",
    "print('C shape:', tuple(C.shape))\n",
    "plt.figure(); plt.imshow(C.detach().numpy(), cmap='viridis'); plt.colorbar(); plt.title('Matrix Product Heatmap'); plt.show()"
   ]
  },
  {
   "cell_type": "markdown",
   "metadata": {},
   "source": [
    "## 3D (e.g., H×W×C image)"
   ]
  },
  {
   "cell_type": "code",
   "execution_count": null,
   "metadata": {},
   "outputs": [],
   "source": [
    "img = torch.rand(64, 64, 3)\n",
    "print('Image-like tensor:', tuple(img.shape))\n",
    "plt.figure(); plt.imshow(img.numpy()); plt.title('Random Image'); plt.axis('off'); plt.show()"
   ]
  },
  {
   "cell_type": "markdown",
   "metadata": {},
   "source": [
    "## 4D (Batch × H × W × C)"
   ]
  },
  {
   "cell_type": "code",
   "execution_count": null,
   "metadata": {},
   "outputs": [],
   "source": [
    "batch = torch.rand(8, 64, 64, 3)\n",
    "print('Batch shape:', tuple(batch.shape))\n",
    "print('Per-image mean (first 3):', batch.view(8, -1).mean(dim=1)[:3])"
   ]
  },
  {
   "cell_type": "markdown",
   "metadata": {},
   "source": [
    "## Store & Retrieve with Tensorus (fallback to demo)"
   ]
  },
  {
   "cell_type": "code",
   "execution_count": null,
   "metadata": {},
   "outputs": [],
   "source": [
    "payload = {\n",
    "  'tensor_data': img.tolist(),\n",
    "  'metadata': {'name': 'sample_image', 'shape': list(img.shape)}\n",
    "}\n",
    "if SERVER:\n",
    "    try:\n",
    "        r = requests.post(f'{TENSORUS_API_URL}/api/v1/tensors', json=payload, timeout=5)\n",
    "        tid = r.json().get('tensor_id', 'demo_tensor')\n",
    "        rr = requests.get(f'{TENSORUS_API_URL}/api/v1/tensors/{tid}', timeout=5)\n",
    "        print('Stored and retrieved tensor_id:', tid, '| status:', rr.status_code)\n",
    "    except Exception as e:\n",
    "        print('API error, demo mode:', e)\n",
    "        print('Demo retrieved shape:', tuple(img.shape))\n",
    "else:\n",
    "    print('Demo stored tensor_id: demo_tensor | Demo retrieved shape:', tuple(img.shape))"
   ]
  },
  {
   "cell_type": "markdown",
   "metadata": {},
   "source": [
    "## Takeaways\n",
    "- Tensors generalize scalars, vectors, and matrices.\n",
    "- Shape, dtype, and device are fundamental.\n",
    "- Tensorus can persist tensors and metadata; notebooks work in connected or demo mode."
   ]
  }
 ],
 "metadata": {
  "kernelspec": {"display_name": "Python 3", "language": "python", "name": "python3"},
  "language_info": {"name": "python", "version": "3.9"}
 },
 "nbformat": 4,
 "nbformat_minor": 4
}
