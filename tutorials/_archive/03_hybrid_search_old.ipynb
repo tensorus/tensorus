{
 "cells": [
  {
   "cell_type": "markdown",
   "metadata": {},
   "source": [
    "# Tutorial 3: Hybrid Search (Semantic + Mathematical)\n",
    "\n",
    "Learn how to combine semantic meaning with tensor math constraints. This notebook runs with a live Tensorus server when available and falls back to realistic demo mode otherwise."
   ]
  },
  {
   "cell_type": "code",
   "execution_count": null,
   "metadata": {},
   "outputs": [],
   "source": [
    "# Lightweight install cell (safe to re-run)\n",
    "import sys, subprocess, pkgutil\n",
    "packages = ['numpy','torch','matplotlib','seaborn','requests']\n",
    "for p in packages:\n",
    "    if pkgutil.find_loader(p) is None:\n",
    "        print(f'Installing {p} ...')\n",
    "        subprocess.check_call([sys.executable, '-m', 'pip', 'install', p])\n",
    "print('✅ Dependencies ready')"
   ]
  },
  {
   "cell_type": "code",
   "execution_count": null,
   "metadata": {},
   "outputs": [],
   "source": [
    "# Setup\n",
    "import requests, json, time, random\n",
    "import numpy as np, torch\n",
    "import matplotlib.pyplot as plt, seaborn as sns\n",
    "from datetime import datetime\n",
    "sns.set_theme(style='whitegrid')\n",
    "API = 'http://127.0.0.1:7860'\n",
    "def server_ok():\n",
    "    try:\n",
    "        r = requests.get(f'{API}/health', timeout=2)\n",
    "        return r.status_code == 200\n",
    "    except Exception:\n",
    "        return False\n",
    "SERVER = server_ok()\n",
    "print('📡 Tensorus:', '✅ Connected' if SERVER else '⚠️ Demo Mode')\n",
    "\n",
    "def post_json(path, payload, timeout=8):\n",
    "    try:\n",
    "        r = requests.post(f'{API}{path}', json=payload, timeout=timeout)\n",
    "        r.raise_for_status()\n",
    "        return r.json()\n",
    "    except Exception as e:\n",
    "        return {'error': str(e), 'demo_mode': True}"
   ]
  },
  {
   "cell_type": "markdown",
   "metadata": {},
   "source": [
    "## Part 1 — Semantic Search (Baseline)"
   ]
  },
  {
   "cell_type": "code",
   "execution_count": null,
   "metadata": {},
   "outputs": [],
   "source": [
    "def make_query(text=None, math_ops=None, text_weight=1.0, max_results=8, filters=None):\n",
    "    return {\n",
    "        'text_query': text,\n",
    "        'math_operations': math_ops or [],\n",
    "        'text_weight': float(text_weight),\n",
    "        'math_weight': float(1.0 - text_weight),\n",
    "        'max_results': int(max_results),\n",
    "        'filters': filters or {},\n",
    "        'timestamp': datetime.now().isoformat()\n",
    "    }\n",
    "\n",
    "def demo_results(query):\n",
    "    n = min(max(3, int(query.get('max_results', 10))), 12)\n",
    "    has_text = bool(query.get('text_query'))\n",
    "    has_math = bool(query.get('math_operations'))\n",
    "    stype = 'hybrid' if (has_text and has_math) else ('semantic' if has_text else 'mathematical')\n",
    "    results = []\n",
    "    for i in range(n):\n",
    "        entry = {\n",
    "            'tensor_id': f'tensor_{i:04d}',\n",
    "            'relevance_score': round(random.uniform(0.6, 0.96), 3),\n",
    "            'text_score': round(random.uniform(0.5, 0.92), 3) if has_text else None,\n",
    "            'math_score': round(random.uniform(0.45, 0.85), 3) if has_math else None,\n",
    "            'shape': tuple(np.random.randint(10, 200, size=np.random.randint(2, 4)))\n",
    "        }\n",
    "        results.append(entry)\n",
    "    return {\n",
    "        'demo_mode': True, 'search_type': stype, 'results': results,\n",
    "        'query_time_ms': np.random.randint(18, 160),\n",
    "        'total_candidates': np.random.randint(1200, 40000)\n",
    "    }\n",
    "\n",
    "def hybrid_search(query):\n",
    "    if SERVER:\n",
    "        data = post_json('/api/v1/search/hybrid', query)\n",
    "        if 'results' in data:\n",
    "            return data\n",
    "    return demo_results(query)\n",
    "\n",
    "q_sem = make_query(text='neural network weights transformer attention', text_weight=1.0, max_results=6)\n",
    "res_sem = hybrid_search(q_sem)\n",
    "print('Type:', res_sem.get('search_type'), '| results:', len(res_sem.get('results', [])), '| time:', res_sem.get('query_time_ms'), 'ms')\n",
    "for i, r in enumerate(res_sem['results'][:3], 1):\n",
    "    print(f"{i}. {r['tensor_id']}  score={r['relevance_score']}  shape={r['shape']}")"
   ]
  },
  {
   "cell_type": "markdown",
   "metadata": {},
   "source": [
    "## Part 2 — Mathematical Search Only"
   ]
  },
  {
   "cell_type": "code",
   "execution_count": null,
   "metadata": {},
   "outputs": [],
   "source": [
    "# Example: Find tensors with spectral norm < 1.0 and condition number < 100\n",
    "math_ops = [\n",
    "  {'operation': 'spectral_norm', 'comparator': '<', 'value': 1.0},\n",
    "  {'operation': 'condition_number', 'comparator': '<', 'value': 100.0}\n",
    "]\n",
    "q_math = make_query(text=None, math_ops=math_ops, text_weight=0.0, max_results=8)\n",
    "res_math = hybrid_search(q_math)\n",
    "print('Type:', res_math.get('search_type'), '| results:', len(res_math.get('results', [])))\n",
    "for i, r in enumerate(res_math['results'][:3], 1):\n",
    "    print(f"{i}. {r['tensor_id']}  math={r.get('math_score')}  shape={r['shape']}")"
   ]
  },
  {
   "cell_type": "markdown",
   "metadata": {},
   "source": [
    "## Part 3 — Hybrid Search (Combined)"
   ]
  },
  {
   "cell_type": "code",
   "execution_count": null,
   "metadata": {},
   "outputs": [],
   "source": [
    "q_hybrid = make_query(\n",
    "    text='cnn image classification resnet features',\n",
    "    math_ops=[{'operation': 'rank', 'comparator': '<=', 'value': 64}],\n",
    "    text_weight=0.6, max_results=10,\n",
    "    filters={'domain': 'vision'}\n",
    ")\n",
    "res_hybrid = hybrid_search(q_hybrid)\n",
    "print('Type:', res_hybrid.get('search_type'), '| results:', len(res_hybrid.get('results', [])))\n",
    "# Display a compact table\n",
    "from pprint import pprint\n",
    "rows = []\n",
    "for r in res_hybrid['results']:\n",
    "    rows.append({\n",
    "        'tensor_id': r['tensor_id'],\n",
    "        'relevance': r['relevance_score'],\n",
    "        'text': r.get('text_score'),\n",
    "        'math': r.get('math_score'),\n",
    "        'shape': r['shape']\n",
    "    })\n",
    "pprint(rows[:5])"
   ]
  },
  {
   "cell_type": "markdown",
   "metadata": {},
   "source": [
    "## Visualization — Score Distributions"
   ]
  },
  {
   "cell_type": "code",
   "execution_count": null,
   "metadata": {},
   "outputs": [],
   "source": [
    "relevance = [r['relevance'] for r in rows]\n",
    "text_scores = [r['text'] for r in rows if r['text'] is not None]\n",
    "math_scores = [r['math'] for r in rows if r['math'] is not None]\n",
    "plt.figure(figsize=(10,4))\n",
    "plt.subplot(1,3,1); plt.hist(relevance, bins=8, color='tab:blue'); plt.title('Relevance');\n",
    "plt.subplot(1,3,2); plt.hist(text_scores, bins=8, color='tab:green'); plt.title('Text');\n",
    "plt.subplot(1,3,3); plt.hist(math_scores, bins=8, color='tab:red'); plt.title('Math');\n",
    "plt.tight_layout(); plt.show()"
   ]
  },
  {
   "cell_type": "markdown",
   "metadata": {},
   "source": [
    "## Takeaways\n",
    "- Semantic search finds content by meaning.\n",
    "- Mathematical filters constrain tensor properties.\n",
    "- Hybrid search combines both for unmatched precision."
   ]
  }
 ],
 "metadata": {
  "kernelspec": {"display_name": "Python 3", "language": "python", "name": "python3"},
  "language_info": {"name": "python", "version": "3.9"}
 },
 "nbformat": 4,
 "nbformat_minor": 4
}
