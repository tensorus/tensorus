{
 "cells": [
  {
   "cell_type": "markdown",
   "metadata": {},
   "source": [
    "# Tutorial 13: Ingestion Agent Workflows\n",
    "\n",
    "Learn how to:\n",
    "- Configure `DataIngestionAgent` to watch a directory\n",
    "- Trigger ingestion runs and inspect activity\n",
    "- Verify newly ingested tensors\n",
    "\n",
    "When the API is offline, this notebook simulates agent behavior."
   ]
  },
  {
   "cell_type": "code",
   "execution_count": null,
   "metadata": {},
   "outputs": [],
   "source": [
    "from tutorial_utils import ping_server, ensure_dataset, fetch_dataset, pretty_json\n",
    "from pathlib import Path\n",
    "import json\n",
    "import numpy as np\n",
    "import requests\n",
    "\n",
    "API = \"http://127.0.0.1:7860\"\n",
    "SERVER = ping_server(API)\n",
    "print(f\"\\ud83d\\udce1 Tensorus server available: {SERVER}\")\n",
    "\n",
    "DATASET = \"ingestion_demo\"\n",
    "WATCH_DIR = Path(\"temp_ingestion_source_api\")\n",
    "WATCH_DIR.mkdir(parents=True, exist_ok=True)\n",
    "\n",
    "if SERVER:\n",
    "    print(pretty_json(ensure_dataset(DATASET, API).payload))\n",
    "else:\n",
    "    print(\"Demo mode: dataset + directory assumed ready.\")\n"
   ]
  },
  {
   "cell_type": "markdown",
   "metadata": {},
   "source": [
    "## Seed new files for ingestion\n",
    "The agent polls `temp_ingestion_source_api/` and converts files into tensors." 
   ]
  },
  {
   "cell_type": "code",
   "execution_count": null,
   "metadata": {},
   "outputs": [],
   "source": [
    "payload = {\"matrix\": np.random.rand(4, 4).tolist(), \"metadata\": {\"sensor\": \"imu\"}}\n",
    "sample_file = WATCH_DIR / \"demo_tensor.json\"\n",
    "sample_file.write_text(json.dumps(payload, indent=2))\n",
    "print(f\"Wrote sample file: {sample_file}\")\n"
   ]
  },
  {
   "cell_type": "markdown",
   "metadata": {},
   "source": [
    "## Start the agent (manual step)\n",
    "Run the following command in a terminal to launch the ingestion agent.\n",
    "\n",
    "```bash\n",
    "python tensorus/ingestion_agent.py --dataset ingested_data_api --source temp_ingestion_source_api\n",
    "```\n",
    "\n",
    "The notebook polls for new records; demo mode synthesizes mock responses."
   ]
  },
  {
   "cell_type": "code",
   "execution_count": null,
   "metadata": {},
   "outputs": [],
   "source": [
    "if SERVER:\n",
    "    try:\n",
    "        records = fetch_dataset(DATASET, API)\n",
    "    except requests.RequestException as exc:\n",
    "        records = {\"error\": str(exc)}\n",
    "else:\n",
    "    records = {\"demo_mode\": True, \"data\": [{\"metadata\": {\"source\": \"demo_file\"}, \"record_id\": \"demo-1\"}]}\n",
    "\n",
    "print(pretty_json(records))\n"
   ]
  },
  {
   "cell_type": "markdown",
   "metadata": {},
   "source": [
    "## Cleanup\n",
    "Remove temporary files created for the demonstration."
   ]
  },
  {
   "cell_type": "code",
   "execution_count": null,
   "metadata": {},
   "outputs": [],
   "source": [
    "sample_file.unlink(missing_ok=True)\n",
    "print(\"Temporary file removed.\")\n"
   ]
  }
 ],
 "metadata": {
  "kernelspec": {
   "display_name": "Python 3",
   "language": "python",
   "name": "python3"
  },
  "language_info": {
   "name": "python",
   "version": "3.9"
  }
 },
 "nbformat": 4,
 "nbformat_minor": 5
}
