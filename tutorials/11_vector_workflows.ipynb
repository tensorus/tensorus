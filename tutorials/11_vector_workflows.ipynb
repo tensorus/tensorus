{
 "cells": [
  {
   "cell_type": "markdown",
   "metadata": {},
   "source": [
    "# Tutorial 11: Vector Workflows — Embeddings, Indexing, Similarity Search\n",
    "\n",
    "Learn how to: \n",
    "- Generate embeddings with the Tensorus embedding agent\n",
    "- Build or refresh FAISS-backed indexes\n",
    "- Execute similarity and hybrid searches\n",
    "- Inspect vector metrics and stats\n",
    "\n",
    "The notebook relies on `tutorial_utils.py` for shared helpers and gracefully switches to demo mode when the API is offline."
   ]
  },
  {
   "cell_type": "code",
   "execution_count": null,
   "metadata": {},
   "outputs": [],
   "source": [
    "from tutorial_utils import ping_server, ensure_dataset, pretty_json\n",
    "import numpy as np\n",
    "import requests\n",
    "\n",
    "API = \"http://127.0.0.1:7860\"\n",
    "SERVER = ping_server(API)\n",
    "print(f\"\\ud83d\\udce1 Tensorus server available: {SERVER}\")\n",
    "\n",
    "DATASET = \"vector_demo\"\n",
    "if SERVER:\n",
    "    dataset_result = ensure_dataset(DATASET, API)\n",
    "    print(pretty_json(dataset_result.payload))\n",
    "else:\n",
    "    print(\"Demo mode: assuming dataset exists.\")\n"
   ]
  },
  {
   "cell_type": "markdown",
   "metadata": {},
   "source": [
    "## Embed sample texts\n",
    "When the server is available, this cell calls `/api/v1/vector/embed`. Otherwise it fabricates demo responses so you can still explore downstream logic."
   ]
  },
  {
   "cell_type": "code",
   "execution_count": null,
   "metadata": {},
   "outputs": [],
   "source": [
    "texts = [\n",
    "    \"Transformer attention weights\",\n",
    "    \"Climate simulation tensor fields\",\n",
    "    \"Financial risk tensor analytics\",\n",
    "]\n",
    "embed_payload = {\n",
    "    \"texts\": texts,\n",
    "    \"dataset_name\": DATASET,\n",
    "    \"namespace\": \"demo\",\n",
    "    \"tenant_id\": \"tutorial\"\n",
    "}\n",
    "\n",
    "if SERVER:\n",
    "    try:\n",
    "        response = requests.post(f\"{API}/api/v1/vector/embed\", json=embed_payload, timeout=20)\n",
    "        response.raise_for_status()\n",
    "        embed_result = response.json()\n",
    "    except requests.RequestException as exc:\n",
    "        embed_result = {\"error\": str(exc), \"demo_mode\": True}\n",
    "else:\n",
    "    embed_result = {\"demo_mode\": True, \"record_ids\": [f\"demo_vec_{i}\" for i in range(len(texts))]}\n",
    "\n",
    "print(pretty_json(embed_result))\n"
   ]
  },
  {
   "cell_type": "markdown",
   "metadata": {},
   "source": [
    "## Build or refresh the vector index\n",
    "FAISS-backed indexes are managed via `/api/v1/vector/index/build`."
   ]
  },
  {
   "cell_type": "code",
   "execution_count": null,
   "metadata": {},
   "outputs": [],
   "source": [
    "index_payload = {\n",
    "    \"dataset_name\": DATASET,\n",
    "    \"index_type\": \"partitioned\",\n",
    "    \"metric\": \"cosine\",\n",
    "    \"num_partitions\": 8\n",
    "}\n",
    "\n",
    "if SERVER:\n",
    "    try:\n",
    "        build_response = requests.post(f\"{API}/api/v1/vector/index/build\", json=index_payload, timeout=60)\n",
    "        build_response.raise_for_status()\n",
    "        index_result = build_response.json()\n",
    "    except requests.RequestException as exc:\n",
    "        index_result = {\"error\": str(exc), \"demo_mode\": True}\n",
    "else:\n",
    "    index_result = {\"demo_mode\": True, \"index_stats\": {\"total_vectors\": len(embed_payload[\"texts\"]), \"partitions\": 8}}\n",
    "\n",
    "print(pretty_json(index_result))\n"
   ]
  },
  {
   "cell_type": "markdown",
   "metadata": {},
   "source": [
    "## Similarity search\n",
    "Query the vector index for nearest neighbors."
   ]
  },
  {
   "cell_type": "code",
   "execution_count": null,
   "metadata": {},
   "outputs": [],
   "source": [
    "search_payload = {\n",
    "    \"query\": \"risk analytics\",\n",
    "    \"dataset_name\": DATASET,\n",
    "    \"k\": 5,\n",
    "    \"namespace\": \"demo\",\n",
    "    \"tenant_id\": \"tutorial\"\n",
    "}\n",
    "\n",
    "if SERVER:\n",
    "    try:\n",
    "        search_response = requests.post(f\"{API}/api/v1/vector/search\", json=search_payload, timeout=20)\n",
    "        search_response.raise_for_status()\n",
    "        search_result = search_response.json()\n",
    "    except requests.RequestException as exc:\n",
    "        search_result = {\"error\": str(exc), \"demo_mode\": True}\n",
    "else:\n",
    "    search_result = {\"demo_mode\": True, \"results\": [\"demo_vec_0\", \"demo_vec_1\"], \"search_time_ms\": 42.0}\n",
    "\n",
    "print(pretty_json(search_result))\n"
   ]
  },
  {
   "cell_type": "markdown",
   "metadata": {},
   "source": [
    "## Metrics and stats\n",
    "Inspect aggregated metrics to monitor index health."
   ]
  },
  {
   "cell_type": "code",
   "execution_count": null,
   "metadata": {},
   "outputs": [],
   "source": [
    "if SERVER:\n",
    "    try:\n",
    "        stats_resp = requests.get(f\"{API}/api/v1/vector/stats/{DATASET}\", timeout=10)\n",
    "        stats_resp.raise_for_status()\n",
    "        stats_payload = stats_resp.json()\n",
    "    except requests.RequestException as exc:\n",
    "        stats_payload = {\"error\": str(exc), \"demo_mode\": True}\n",
    "else:\n",
    "    stats_payload = {\"demo_mode\": True, \"stats\": {\"namespaces\": {\"demo\": {\"count\": len(texts)}}}}\n",
    "\n",
    "print(pretty_json(stats_payload))\n"
   ]
  }
 ],
 "metadata": {
  "kernelspec": {
   "display_name": "Python 3",
   "language": "python",
   "name": "python3"
  },
  "language_info": {
   "name": "python",
   "version": "3.9"
  }
 },
 "nbformat": 4,
 "nbformat_minor": 5
}
