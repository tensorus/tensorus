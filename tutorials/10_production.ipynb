{
 "cells": [
  {
   "cell_type": "markdown",
   "metadata": {},
   "source": [
    "# Tutorial 10 (Enhanced): Production — HA/DR, Monitoring, SLO Alerts\n",
    "\n",
    "Simulate deployment, high availability (HA) failover, disaster recovery (DR), short monitoring run with SLO-based alerts, and status report. Works without a live API."
   ]
  },
  {
   "cell_type": "code",
   "execution_count": null,
   "metadata": {},
   "outputs": [],
   "source": [
    "# Install\n",
    "import sys, subprocess, pkgutil\n",
    "for p in ['numpy','matplotlib','seaborn','requests','psutil']:\n",
    "    if pkgutil.find_loader(p) is None: subprocess.check_call([sys.executable,'-m','pip','install',p])\n",
    "print('✅ Dependencies ready')"
   ]
  },
  {
   "cell_type": "code",
   "execution_count": null,
   "id": "943f1532",
   "metadata": {},
   "outputs": [],
   "source": [
    "from tutorial_utils import (\n",
    "    ping_server,\n",
    "    ensure_dataset,\n",
    "    ingest_tensor,\n",
    "    fetch_dataset,\n",
    "    summarize_records,\n",
    "    tensor_addition,\n",
    "    pretty_json,\n",
    ")\n",
    "API = \"http://127.0.0.1:7860\"\n",
    "SERVER = ping_server(API)\n",
    "print(f\"📡 Tensorus server available: {SERVER}\")"
   ]
  },
  {
   "cell_type": "code",
   "execution_count": null,
   "metadata": {},
   "outputs": [],
   "source": [
    "# Setup\n",
    "import time, json, threading, requests, psutil, numpy as np\n",
    "from dataclasses import dataclass, field\n",
    "from enum import Enum\n",
    "from datetime import datetime\n",
    "import matplotlib.pyplot as plt, seaborn as sns\n",
    "sns.set_theme(style='whitegrid')\n",
    "class Env(Enum): DEV='development'; STAGE='staging'; PROD='production'\n",
    "class Sev(Enum): INFO='info'; WARN='warning'; ERR='error'; CRIT='critical'\n",
    "@dataclass\n",
    "class Metrics: ts:datetime; cpu:float; mem:float; disk:float; rps:float; err:float; rt_ms:float\n",
    "class Monitor:\n",
    "    def __init__(self): self.hist=[]; self.alerts=[]; self.thres={'cpu':80.0,'mem':85.0,'err':5.0,'rt':800.0}\n",
    "    def collect(self):\n",
    "        m=Metrics(datetime.now(), psutil.cpu_percent(0.1), psutil.virtual_memory().percent, psutil.disk_usage('/').percent, np.random.uniform(80,200), np.random.uniform(0,6), np.random.uniform(40,1200)); self.hist.append(m); self._alerts(m); return m\n",
    "    def _alerts(self,m):\n",
    "        def add(sev,msg): self.alerts.append({'ts':datetime.now(),'sev':sev.value,'msg':msg})\n",
    "        if m.cpu>self.thres['cpu']: add(Sev.WARN,'High CPU')\n",
    "        if m.mem>self.thres['mem']: add(Sev.WARN,'High MEM')\n",
    "        if m.err>self.thres['err']: add(Sev.ERR,'High error rate')\n",
    "        if m.rt_ms>self.thres['rt']: add(Sev.WARN,'Slow response')\n",
    "    def run(self, samples=6, interval=1.0):\n",
    "        for _ in range(samples): self.collect(); time.sleep(interval)\n",
    "    def report(self):\n",
    "        if not self.hist: return {'status':'no_data'}\n",
    "        avg=lambda k: float(np.mean([getattr(x,k) for x in self.hist[-min(10,len(self.hist)):]]))\n",
    "        status='healthy'; cpu,mem,err=avg('cpu'),avg('mem'),avg('err')\n",
    "        if cpu>90 or mem>95 or err>10: status='critical'\n",
    "        elif cpu>80 or mem>85 or err>5: status='warning'\n",
    "        return {'status':status,'avg':{'cpu':cpu,'mem':mem,'err':err}}\n",
    "class Deployment:\n",
    "    def __init__(self, env=Env.PROD): self.env=env; self.active_region='us-central'; self.standby_region='us-east'\n",
    "    def deploy(self): steps=['Validate','Provision','Deploy','LB','Monitoring','Health']; [print(str(i+1)+'/'+str(len(steps)),s+'...') for i,s in enumerate(steps)]; time.sleep(0.4); print('✅ Deployed'); return {'env':self.env.value,'region':self.active_region}\n",
    "    def failover(self): print('⚠️ Failover from', self.active_region,'to', self.standby_region); self.active_region, self.standby_region=self.standby_region, self.active_region; return {'active_region':self.active_region}\n",
    "    def dr_restore(self): print('🛠️ DR restore into', self.standby_region); time.sleep(0.3); return {'dr':'ok'}\n"
   ]
  },
  {
   "cell_type": "markdown",
   "metadata": {},
   "source": [
    "## Deploy & Monitor"
   ]
  },
  {
   "cell_type": "code",
   "execution_count": null,
   "metadata": {},
   "outputs": [],
   "source": [
    "dep=Deployment(); info=dep.deploy(); mon=Monitor(); mon.run(samples=6, interval=1.0); rep=mon.report(); info, rep"
   ]
  },
  {
   "cell_type": "markdown",
   "metadata": {},
   "source": [
    "## Visualize CPU/MEM and Alerts"
   ]
  },
  {
   "cell_type": "code",
   "execution_count": null,
   "metadata": {},
   "outputs": [],
   "source": [
    "cpus=[m.cpu for m in mon.hist]; mems=[m.mem for m in mon.hist]\n",
    "plt.figure(figsize=(8,3)); plt.plot(cpus,'-o',label='CPU'); plt.plot(mems,'-o',label='MEM'); plt.legend(); plt.title('System Metrics'); plt.show()\n",
    "mon.alerts[-5:]"
   ]
  },
  {
   "cell_type": "markdown",
   "metadata": {},
   "source": [
    "## HA/DR Simulation"
   ]
  },
  {
   "cell_type": "code",
   "execution_count": null,
   "metadata": {},
   "outputs": [],
   "source": [
    "dep.failover(); dep.dr_restore(); dep.deploy()"
   ]
  }
 ],
 "metadata": {
  "kernelspec": {
   "display_name": "Python 3",
   "language": "python",
   "name": "python3"
  },
  "language_info": {
   "name": "python",
   "version": "3.9"
  }
 },
 "nbformat": 4,
 "nbformat_minor": 4
}
