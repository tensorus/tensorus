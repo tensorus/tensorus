{
 "cells": [
  {
   "cell_type": "markdown",
   "metadata": {},
   "source": [
    "# Tutorial 17: CLI & Streamlit UI Walkthrough\n",
    "\n",
    "Learn how to:\n",
    "- Use the Tensorus CLI for dataset and operation management\n",
    "- Launch the Streamlit dashboard and explore key pages\n",
    "\n",
    "This notebook focuses on command snippets and verification checks. When commands cannot be executed, simulated outputs are shown."
   ]
  },
  {
   "cell_type": "markdown",
   "metadata": {},
   "source": [
    "## CLI commands\n",
    "Use the `tensorus` CLI installed with the package. Run these in a terminal:"
   ]
  },
  {
   "cell_type": "code",
   "execution_count": null,
   "metadata": {},
   "outputs": [],
   "source": [
    "cli_commands = '''\n# List datasets\ntensorus datasets list\n\n# Create a dataset\ntensorus datasets create --name cli_demo\n\n# Run a tensor operation\ntensorus tensor add --dataset cli_demo --record-id-a A --record-id-b B\n\n# View operation history\ntensorus operations recent --limit 10\n'''\nprint(cli_commands)\n"
   ]
  },
  {
   "cell_type": "markdown",
   "metadata": {},
   "source": [
    "## Streamlit UI\n",
    "Launch the dashboard from the repository root:"
   ]
  },
  {
   "cell_type": "code",
   "execution_count": null,
   "metadata": {},
   "outputs": [],
   "source": [
    "streamlit_cmd = "streamlit run app.py"\n",
    "print(streamlit_cmd)\n",
    "print('\nKey pages to explore:')\n",
    "pages = [\n        'Dashboard overview',\n        'Dataset manager',\n        'Vector search console',\n        'Operations & lineage explorer',\n        'Agent control center',\n    ]\n",
    "for page in pages:\n",
    "    print(f'- {page}')\n"
   ]
  },
  {
   "cell_type": "markdown",
   "metadata": {},
   "source": [
    "## Verification checks\n",
    "Once the CLI or UI is running, call the API to confirm service health."
   ]
  },
  {
   "cell_type": "code",
   "execution_count": null,
   "metadata": {},
   "outputs": [],
   "source": [
    "from tutorial_utils import ping_server\n",
    "API = 'http://127.0.0.1:7860'\n",
    "print(f'API reachable: {ping_server(API)}')\n"
   ]
  }
 ],
 "metadata": {
  "kernelspec": {
   "display_name": "Python 3",
   "language": "python",
   "name": "python3"
  },
  "language_info": {
   "name": "python",
   "version": "3.9"
  }
 },
 "nbformat": 4,
 "nbformat_minor": 5
}
