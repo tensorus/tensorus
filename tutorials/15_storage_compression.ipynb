{
 "cells": [
  {
   "cell_type": "markdown",
   "metadata": {},
   "source": [
    "# Tutorial 15: Storage Backends & Compression\n",
    "\n",
    "Learn how to:\n",
    "- Configure Tensorus to use different storage backends\n",
    "- Enable compression presets and quantization\n",
    "- Inspect persisted artifacts\n",
    "\n",
    "The notebook demonstrates environment configuration patterns with demo fallbacks." 
   ]
  },
  {
   "cell_type": "code",
   "execution_count": null,
   "metadata": {},
   "outputs": [],
   "source": [
    "import os\n",
    "from tutorial_utils import ping_server, ensure_dataset, ingest_tensor, pretty_json\n",
    "import numpy as np\n",
    "\n",
    "API = \"http://127.0.0.1:7860\"\n",
    "SERVER = ping_server(API)\n",
    "print(f\"\\ud83d\\udce1 Tensorus server available: {SERVER}\")\n",
    "\n",
    "# Show relevant environment variables\n",
    "for key in [\"TENSORUS_TENSOR_STORAGE_PATH\", \"TENSORUS_STORAGE_BACKEND\", \"TENSORUS_COMPRESSION_PRESET\"]:\n",
    "    print(f\"{key} = {os.environ.get(key, 'not set')}\")\n"
   ]
  },
  {
   "cell_type": "markdown",
   "metadata": {},
   "source": [
    "## Local filesystem persistence\n",
    "When `TENSORUS_TENSOR_STORAGE_PATH` is set to a directory path, Tensorus persists datasets as `.pt` files."
   ]
  },
  {
   "cell_type": "code",
   "execution_count": null,
   "metadata": {},
   "outputs": [],
   "source": [
    "DATASET = \"storage_demo\"\n",
    "tensor = np.random.rand(16, 16).astype(\"float32\")\n",
    "\n",
    "if SERVER:\n",
    "    ensure_dataset(DATASET, API)\n",
    "    result = ingest_tensor(DATASET, tensor, {\"description\": \"local persistence demo\"}, API)\n",
    "else:\n",
    "    result = {\"demo_mode\": True, \"record_id\": \"demo-1\"}\n",
    "\n",
    "print(pretty_json(result))\n"
   ]
  },
  {
   "cell_type": "markdown",
   "metadata": {},
   "source": [
    "## Switching to S3 or PostgreSQL\n",
    "To use remote backends, set environment variables before starting the server. For example:\n",
    "\n",
    "```bash\n",
    "export TENSORUS_STORAGE_BACKEND=postgres\n",
    "export TENSORUS_POSTGRES_HOST=localhost\n",
    "export TENSORUS_POSTGRES_USER=tensorus_user\n",
    "export TENSORUS_POSTGRES_PASSWORD=...\n",
    "```\n",
    "\n",
    "or\n",
    "\n",
    "```bash\n",
    "export TENSORUS_TENSOR_STORAGE_PATH=s3://your-bucket/prefix\n",
    "```" 
   ]
  },
  {
   "cell_type": "markdown",
   "metadata": {},
   "source": [
    "## Compression presets\n",
    "Setting `TENSORUS_COMPRESSION_PRESET` or using `/compression/preset` endpoints enables LZ4/GZIP and quantization options."
   ]
  },
  {
   "cell_type": "code",
   "execution_count": null,
   "metadata": {},
   "outputs": [],
   "source": [
    "compression_payload = {\n",
    "    \"preset\": \"balanced\",\n",
    "    \"quantization\": \"int8\"\n",
    "}\n",
    "\n",
    "if SERVER:\n",
    "    try:\n",
    "        compress_resp = requests.post(f\"{API}/compression/preset\", json=compression_payload, timeout=15)\n",
    "        compress_resp.raise_for_status()\n",
    "        compress_result = compress_resp.json()\n",
    "    except requests.RequestException as exc:\n",
    "        compress_result = {\"error\": str(exc), \"demo_mode\": True}\n",
    "else:\n",
    "    compress_result = {\"demo_mode\": True, \"message\": \"Compression preset applied (simulated).\"}\n",
    "\n",
    "print(pretty_json(compress_result))\n"
   ]
  }
 ],
 "metadata": {
  "kernelspec": {
   "display_name": "Python 3",
   "language": "python",
   "name": "python3"
  },
  "language_info": {
   "name": "python",
   "version": "3.9"
  }
 },
 "nbformat": 4,
 "nbformat_minor": 5
}
