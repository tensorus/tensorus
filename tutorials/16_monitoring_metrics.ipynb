{
 "cells": [
  {
   "cell_type": "markdown",
   "metadata": {},
   "source": [
    "# Tutorial 16: Monitoring & Metrics\n",
    "\n",
    "Learn how to:\n",
    "- Retrieve embedding/search metrics\n",
    "- Inspect hybrid search lineage stats\n",
    "- Tail audit logs for operational awareness\n",
    "\n",
    "The notebook gracefully handles demo mode when a live API is unavailable."
   ]
  },
  {
   "cell_type": "code",
   "execution_count": null,
   "metadata": {},
   "outputs": [],
   "source": [
    "from tutorial_utils import ping_server, pretty_json\n",
    "import requests\n",
    "from pathlib import Path\n",
    "\n",
    "API = \"http://127.0.0.1:7860\"\n",
    "SERVER = ping_server(API)\n",
    "print(f\"\\ud83d\\udce1 Tensorus server available: {SERVER}\")\n"
   ]
  },
  {
   "cell_type": "markdown",
   "metadata": {},
   "source": [
    "## Embedding & search metrics\n",
    "Call `/api/v1/vector/metrics` to inspect aggregate latency and throughput statistics." 
   ]
  },
  {
   "cell_type": "code",
   "execution_count": null,
   "metadata": {},
   "outputs": [],
   "source": [
    "if SERVER:\n",
    "    try:\n",
    "        metrics_resp = requests.get(f\"{API}/api/v1/vector/metrics\", timeout=10)\n",
    "        metrics_resp.raise_for_status()\n",
    "        vector_metrics = metrics_resp.json()\n",
    "    except requests.RequestException as exc:\n",
    "        vector_metrics = {\"error\": str(exc), \"demo_mode\": True}\n",
    "else:\n",
    "    vector_metrics = {\"demo_mode\": True, \"embedding_metrics\": {\"avg_latency_ms\": 42}, \"search_metrics\": {\"p95_ms\": 88}}\n",
    "\n",
    "print(pretty_json(vector_metrics))\n"
   ]
  },
  {
   "cell_type": "markdown",
   "metadata": {},
   "source": [
    "## Hybrid search lineage stats\n",
    "Use `/api/v1/vector/metrics` response or `/api/v1/lineage/...` endpoints to understand lineage fan-out and depth." 
   ]
  },
  {
   "cell_type": "code",
   "execution_count": null,
   "metadata": {},
   "outputs": [],
   "source": [
    "if SERVER:\n",
    "    try:\n",
    "        lineage_stats_resp = requests.get(f\"{API}/api/v1/vector/metrics\", timeout=10)\n",
    "        lineage_stats_resp.raise_for_status()\n",
    "        lineage_stats = lineage_stats_resp.json().get(\"lineage_metrics\", {})\n",
    "    except requests.RequestException as exc:\n",
    "        lineage_stats = {\"error\": str(exc), \"demo_mode\": True}\n",
    "else:\n",
    "    lineage_stats = {\"demo_mode\": True, \"lineage_metrics\": {\"avg_steps\": 3, \"max_depth\": 6}}\n",
    "\n",
    "print(pretty_json(lineage_stats))\n"
   ]
  },
  {
   "cell_type": "markdown",
   "metadata": {},
   "source": [
    "## Audit log tailing\n",
    "Tensorus writes audit events to `tensorus_audit.log`. Tail the log to monitor critical actions." 
   ]
  },
  {
   "cell_type": "code",
   "execution_count": null,
   "metadata": {},
   "outputs": [],
   "source": [
    "audit_path = Path('tensorus_audit.log')\n",
    "if audit_path.exists():\n",
    "    tail = ''.join(audit_path.open().readlines()[-5:])\n",
    "    print(tail)\n",
    "else:\n",
    "    print('Demo mode: audit log not found.')\n"
   ]
  }
 ],
 "metadata": {
  "kernelspec": {
   "display_name": "Python 3",
   "language": "python",
   "name": "python3"
  },
  "language_info": {
   "name": "python",
   "version": "3.9"
  }
 },
 "nbformat": 4,
 "nbformat_minor": 5
}
