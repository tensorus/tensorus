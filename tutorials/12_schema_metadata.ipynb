{
 "cells": [
  {
   "cell_type": "markdown",
   "metadata": {},
   "source": [
    "# Tutorial 12: Schemas & Metadata Workflows\n",
    "\n",
    "Learn how to:\n",
    "- Define dataset schemas\n",
    "- Validate tensor inserts against metadata constraints\n",
    "- Execute metadata-filtered queries\n",
    "\n",
    "The notebook relies on `tutorial_utils.py` helpers and supports demo mode when the API is unavailable."
   ]
  },
  {
   "cell_type": "code",
   "execution_count": null,
   "metadata": {},
   "outputs": [],
   "source": [
    "from tutorial_utils import ping_server, ensure_dataset, ingest_tensor, pretty_json\n",
    "import numpy as np\n",
    "import requests\n",
    "\n",
    "API = \"http://127.0.0.1:7860\"\n",
    "SERVER = ping_server(API)\n",
    "print(f\"\\ud83d\\udce1 Tensorus server available: {SERVER}\")\n",
    "\n",
    "DATASET = \"schema_demo\"\n",
    "if SERVER:\n",
    "    print(pretty_json(ensure_dataset(DATASET, API).payload))\n",
    "else:\n",
    "    print(\"Demo mode: assuming dataset exists.\")\n"
   ]
  },
  {
   "cell_type": "markdown",
   "metadata": {},
   "source": [
    "## Register a schema\n",
    "Schemas specify required metadata keys, value types, and tensor shape constraints.\n",
    "We call `/datasets/{dataset}/schema` when the server is reachable."
   ]
  },
  {
   "cell_type": "code",
   "execution_count": null,
   "metadata": {},
   "outputs": [],
   "source": [
    "schema_payload = {\n",
    "    \"metadata\": {\"required_fields\": {\"experiment\": \"str\", \"version\": \"int\"}},\n",
    "    \"tensor_constraints\": {\"shape\": [None, 64]},\n",
    "}\n",
    "\n",
    "if SERVER:\n",
    "    try:\n",
    "        resp = requests.put(f\"{API}/datasets/{DATASET}/schema\", json=schema_payload, timeout=15)\n",
    "        resp.raise_for_status()\n",
    "        schema_result = resp.json()\n",
    "    except requests.RequestException as exc:\n",
    "        schema_result = {\"error\": str(exc), \"demo_mode\": True}\n",
    "else:\n",
    "    schema_result = {\"demo_mode\": True, \"message\": \"Schema registered (simulated).\"}\n",
    "\n",
    "print(pretty_json(schema_result))\n"
   ]
  },
  {
   "cell_type": "markdown",
   "metadata": {},
   "source": [
    "## Insert tensors (valid vs invalid)"
   ]
  },
  {
   "cell_type": "code",
   "execution_count": null,
   "metadata": {},
   "outputs": [],
   "source": [
    "valid_metadata = {\"experiment\": \"trial-A\", \"version\": 1}\n",
    "invalid_metadata = {\"experiment\": 123}\n",
    "tensor = np.random.rand(128, 64).astype(\"float32\")\n",
    "\n",
    "if SERVER:\n",
    "    valid_result = ingest_tensor(DATASET, tensor, valid_metadata, API)\n",
    "    invalid_result = ingest_tensor(DATASET, tensor, invalid_metadata, API)\n",
    "else:\n",
    "    valid_result = {\"demo_mode\": True, \"status\": \"accepted\"}\n",
    "    invalid_result = {\"demo_mode\": True, \"status\": \"validation_error\"}\n",
    "\n",
    "print(\"Valid insert:\\n", pretty_json(valid_result))\n",
    "print(\"Invalid insert:\\n", pretty_json(invalid_result))\n"
   ]
  },
  {
   "cell_type": "markdown",
   "metadata": {},
   "source": [
    "## Metadata query\n",
    "Query tensors that match metadata filters via `/datasets/{dataset}/records`."
   ]
  },
  {
   "cell_type": "code",
   "execution_count": null,
   "metadata": {},
   "outputs": [],
   "source": [
    "params = {\"metadata.experiment\": \"trial-A\"}\n",
    "\n",
    "if SERVER:\n",
    "    try:\n",
    "        query_resp = requests.get(f\"{API}/datasets/{DATASET}/records\", params=params, timeout=10)\n",
    "        query_resp.raise_for_status()\n",
    "        query_result = query_resp.json()\n",
    "    except requests.RequestException as exc:\n",
    "        query_result = {\"error\": str(exc), \"demo_mode\": True}\n",
    "else:\n",
    "    query_result = {\"demo_mode\": True, \"records\": [{\"metadata\": valid_metadata, \"record_id\": \"demo-1\"}]}\n",
    "\n",
    "print(pretty_json(query_result))\n"
   ]
  }
 ],
 "metadata": {
  "kernelspec": {
   "display_name": "Python 3",
   "language": "python",
   "name": "python3"
  },
  "language_info": {
   "name": "python",
   "version": "3.9"
  }
 },
 "nbformat": 4,
 "nbformat_minor": 5
}
