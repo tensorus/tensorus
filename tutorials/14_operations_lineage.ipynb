{
 "cells": [
  {
   "cell_type": "markdown",
   "metadata": {},
   "source": [
    "# Tutorial 14: Operations & Lineage Explorer\n",
    "\n",
    "Learn how to:\n",
    "- Retrieve recent operation history\n",
    "- Filter operations by status or type\n",
    "- Inspect computational lineage graphs for tensors\n",
    "\n",
    "All requests fall back to demo payloads when the API is unavailable."
   ]
  },
  {
   "cell_type": "code",
   "execution_count": null,
   "metadata": {},
   "outputs": [],
   "source": [
    "from tutorial_utils import ping_server, pretty_json\n",
    "import requests\n",
    "\n",
    "API = \"http://127.0.0.1:7860\"\n",
    "SERVER = ping_server(API)\n",
    "print(f\"\\ud83d\\udce1 Tensorus server available: {SERVER}\")\n"
   ]
  },
  {
   "cell_type": "markdown",
   "metadata": {},
   "source": [
    "## Recent operations\n",
    "Fetch the latest operations via `/api/v1/operations/recent`."
   ]
  },
  {
   "cell_type": "code",
   "execution_count": null,
   "metadata": {},
   "outputs": [],
   "source": [
    "if SERVER:\n",
    "    try:\n",
    "        resp = requests.get(f\"{API}/api/v1/operations/recent\", timeout=10)\n",
    "        resp.raise_for_status()\n",
    "        recent_ops = resp.json()\n",
    "    except requests.RequestException as exc:\n",
    "        recent_ops = {\"error\": str(exc), \"demo_mode\": True}\n",
    "else:\n",
    "    recent_ops = {\"demo_mode\": True, \"operations\": [{\"operation\": \"tensor_add\", \"status\": \"success\", \"tensor_ids\": [\"demo_a\", \"demo_b\"]}]}\n",
    "\n",
    "print(pretty_json(recent_ops))\n"
   ]
  },
  {
   "cell_type": "markdown",
   "metadata": {},
   "source": [
    "## Filter by status\n",
    "You can filter by `status` or `operation_type` using query parameters."
   ]
  },
  {
   "cell_type": "code",
   "execution_count": null,
   "metadata": {},
   "outputs": [],
   "source": [
    "params = {\"status\": \"success\"}\n",
    "\n",
    "if SERVER:\n",
    "    try:\n",
    "        filtered = requests.get(f\"{API}/api/v1/operations/recent\", params=params, timeout=10)\n",
    "        filtered.raise_for_status()\n",
    "        filtered_ops = filtered.json()\n",
    "    except requests.RequestException as exc:\n",
    "        filtered_ops = {\"error\": str(exc), \"demo_mode\": True}\n",
    "else:\n",
    "    filtered_ops = {\"demo_mode\": True, \"operations\": [{\"operation\": \"tensor_norm\", \"status\": \"success\"}]}\n",
    "\n",
    "print(pretty_json(filtered_ops))\n"
   ]
  },
  {
   "cell_type": "markdown",
   "metadata": {},
   "source": [
    "## Tensor lineage\n",
    "Use `/api/v1/lineage/tensor/{tensor_id}` to trace how a tensor was produced."
   ]
  },
  {
   "cell_type": "code",
   "execution_count": null,
   "metadata": {},
   "outputs": [],
   "source": [
    "tensor_id = \"demo_tensor\"\n",
    "\n",
    "if SERVER:\n",
    "    try:\n",
    "        lineage_resp = requests.get(f\"{API}/api/v1/lineage/tensor/{tensor_id}\", timeout=10)\n",
    "        lineage_resp.raise_for_status()\n",
    "        lineage_data = lineage_resp.json()\n",
    "    except requests.RequestException as exc:\n",
    "        lineage_data = {\"error\": str(exc), \"demo_mode\": True}\n",
    "else:\n",
    "    lineage_data = {\"demo_mode\": True, \"lineage\": [{\"operation\": \"tensor_add\", \"inputs\": [\"base_1\", \"base_2\"], \"output\": tensor_id}]}\n",
    "\n",
    "print(pretty_json(lineage_data))\n"
   ]
  },
  {
   "cell_type": "markdown",
   "metadata": {},
   "source": [
    "## DOT graph download\n",
    "Lineage graphs can be exported in DOT format for visualization tools like Graphviz."
   ]
  },
  {
   "cell_type": "code",
   "execution_count": null,
   "metadata": {},
   "outputs": [],
   "source": [
    "if SERVER:\n",
    "    try:\n",
    "        dot_resp = requests.get(f\"{API}/api/v1/lineage/tensor/{tensor_id}/dot\", timeout=10)\n",
    "        dot_resp.raise_for_status()\n",
    "        lineage_dot = dot_resp.text\n",
    "    except requests.RequestException as exc:\n",
    "        lineage_dot = f\"Error retrieving DOT: {exc}\"\n",
    "else:\n",
    "    lineage_dot = \"digraph demo { base_1 -> demo_tensor; base_2 -> demo_tensor; }\"\n",
    "\n",
    "print(lineage_dot)\n"
   ]
  }
 ],
 "metadata": {
  "kernelspec": {
   "display_name": "Python 3",
   "language": "python",
   "name": "python3"
  },
  "language_info": {
   "name": "python",
   "version": "3.9"
  }
 },
 "nbformat": 4,
 "nbformat_minor": 5
}
