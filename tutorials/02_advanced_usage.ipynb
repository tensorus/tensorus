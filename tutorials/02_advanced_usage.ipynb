{
 "cells": [
  {
   "cell_type": "markdown",
   "metadata": {},
   "source": [
    "# Tensorus: Advanced Usage\n",
    "\n",
    "This tutorial covers some of the more advanced features of Tensorus, including the Natural Query Language (NQL), agents, and the vector database."
   ]
  },
  {
   "cell_type": "markdown",
   "metadata": {},
   "source": [
    "## 1. Natural Query Language (NQL)\n",
    "\n",
    "NQL allows you to query for tensors based on their metadata using a simple, text-based language."
   ]
  },
  {
   "cell_type": "code",
   "execution_count": null,
   "metadata": {},
   "outputs": [],
   "source": [
    "import requests\n",
    "\n",
    "TENSORUS_API_URL = \"http://127.0.0.1:7860\"\n",
    "\n",
    "def nql_query(query):\n",
    "    response = requests.post(f\"{TENSORUS_API_URL}/query\", json={"query": query})",
    "    return response.json()\n",
    "\n",
    "# First, let's ingest a tensor with some metadata\n",
    "tensor = np.random.rand(10, 10)\n",
    "metadata = {\"name\": \"random_tensor\", \"source\": \"notebook\", \"version\": 2}\n",
    "ingest_tensor(\"my_first_dataset\", tensor, metadata)\n",
    "\n",
    "# Now, let's query for it\n",
    "query = \"find tensors from 'my_first_dataset' where metadata.source = 'notebook' and metadata.version > 1\"\n",
    "nql_query(query)"
   ]
  },
  {
   "cell_type": "markdown",
   "metadata": {},
   "source": [
    "## 2. Agents\n",
    "\n",
    "Tensorus includes a framework for agents that can perform tasks autonomously. You can manage these agents via the API."
   ]
  },
  {
   "cell_type": "code",
   "execution_count": null,
   "metadata": {},
   "outputs": [],
   "source": [
    "def list_agents():\n",
    "    response = requests.get(f\"{TENSORUS_API_URL}/agents\")\n",
    "    return response.json()\n",
    "\n",
    "def start_agent(agent_id):\n",
    "    response = requests.post(f\"{TENSORUS_API_URL}/agents/{agent_id}/start\")\n",
    "    return response.json()\n",
    "\n",
    "def stop_agent(agent_id):\n",
    "    response = requests.post(f\"{TENSORUS_API_URL}/agents/{agent_id}/stop\")\n",
    "    return response.json()\n",
    "\n",
    "list_agents()"
   ]
  },
  {
   "cell_type": "markdown",
   "metadata": {},
   "source": [
    "## 3. Vector Database\n",
    "\n",
    "Tensorus includes a vector database for storing and searching vector embeddings."
   ]
  },
  {
   "cell_type": "code",
   "execution_count": null,
   "metadata": {},
   "outputs": [],
   "source": [
    "def embed_texts(texts, dataset_name):\n",
    "    payload = {\"texts\": texts, \"dataset_name\": dataset_name}",
    "    response = requests.post(f\"{TENSORUS_API_URL}/api/v1/vector/embed\", json=payload)\n",
    "    return response.json()\n",
    "\n",
    "def search_vectors(query, dataset_name):\n",
    "    payload = {\"query\": query, \"dataset_name\": dataset_name}",
    "    response = requests.post(f\"{TENSORUS_API_URL}/api/v1/vector/search\", json=payload)\n",
    "    return response.json()\n",
    "\n",
    "texts = [\"The quick brown fox jumps over the lazy dog\", \"The lazy dog was not impressed\"]\n",
    "embed_texts(texts, \"my_text_dataset\")\n",
    "\n",
    "search_vectors(\"A fast animal\", \"my_text_dataset\")"
   ]
  }
 ],
 "metadata": {
  "kernelspec": {
   "display_name": "Python 3",
   "language": "python",
   "name": "python3"
  },
  "language_info": {
   "codemirror_mode": {
    "name": "ipython",
    "version": 3
   },
   "file_extension": ".py",
   "mimetype": "text/x-python",
   "name": "python",
   "nbconvert_exporter": "python",
   "pygments_lexer": "ipython3",
   "version": "3.9.7"
  }
 },
 "nbformat": 4,
 "nbformat_minor": 4
}
