{
 "cells": [
  {
   "cell_type": "markdown",
   "metadata": {},
   "source": [
    "# Tensorus: Getting Started\n",
    "\n",
    "Welcome to the Tensorus Getting Started tutorial! This notebook will walk you through the basics of installing Tensorus, starting the server, and performing some basic operations.\n",
    "\n",
    "Tensorus is a production-ready, agentic tensor database that provides 10-100x performance improvements over traditional tensor storage solutions."
   ]
  },
  {
   "cell_type": "markdown",
   "metadata": {},
   "source": [
    "## 1. Installation\n",
    "\n",
    "First, let's install Tensorus using pip. If you have followed the setup instructions in the main `README.md`, you may already have this installed."
   ]
  },
  {
   "cell_type": "code",
   "execution_count": null,
   "metadata": {},
   "outputs": [],
   "source": [
    "# Install Tensorus and required dependencies\n",
    "!pip install -e .\n",
    "!pip install requests numpy torch"
   ]
  },
  {
   "cell_type": "markdown",
   "metadata": {},
   "source": [
    "## 2. Start the Tensorus Server\n",
    "\n",
    "Now, let's start the Tensorus server. You can do this from your terminal using the `tensorus` CLI or directly with uvicorn."
   ]
  },
  {
   "cell_type": "code",
   "execution_count": null,
   "metadata": {},
   "outputs": [],
   "source": [
    "# Start the Tensorus server (run this in a separate terminal)\n",
    "# Option 1: Using the CLI\n",
    "# !tensorus start\n",
    "\n",
    "# Option 2: Using uvicorn directly\n",
    "# !python -m uvicorn tensorus.api:app --reload --host 127.0.0.1 --port 7860\n",
    "\n",
    "print(\"Please start the Tensorus server in a separate terminal using one of the commands above.\")\n",
    "print(\"The server will be available at: http://127.0.0.1:7860\")\n",
    "print(\"API documentation will be available at: http://127.0.0.1:7860/docs\")"
   ]
  },
  {
   "cell_type": "markdown",
   "metadata": {},
   "source": [
    "## 3. Interacting with the Tensorus API\n",
    "\n",
    "Now that the server is running, we can interact with it using the Python client with proper error handling."
   ]
  },
  {
   "cell_type": "code",
   "execution_count": null,
   "metadata": {},
   "outputs": [],
   "source": [
    "import requests\n",
    "import numpy as np\n",
    "import json\n",
    "from typing import Dict, Any, Optional\n",
    "\n",
    "TENSORUS_API_URL = \"http://127.0.0.1:7860\"\n",
    "\n",
    "def check_server_status():\n",
    "    \"\"\"Check if the Tensorus server is running.\"\"\"\n",
    "    try:\n",
    "        response = requests.get(f\"{TENSORUS_API_URL}/health\", timeout=5)\n",
    "        return response.status_code == 200\n",
    "    except requests.exceptions.RequestException:\n",
    "        return False\n",
    "\n",
    "def create_dataset(name: str) -> Dict[str, Any]:\n",
    "    \"\"\"Create a new dataset.\"\"\"\n",
    "    try:\n",
    "        response = requests.post(f\"{TENSORUS_API_URL}/datasets/create\", json={\"name\": name})\n",
    "        response.raise_for_status()\n",
    "        return response.json()\n",
    "    except requests.exceptions.RequestException as e:\n",
    "        print(f\"Error creating dataset: {e}\")\n",
    "        return {\"error\": str(e)}\n",
    "\n",
    "def ingest_tensor(dataset_name: str, tensor: np.ndarray, metadata: Dict[str, Any]) -> Dict[str, Any]:\n",
    "    \"\"\"Ingest a tensor into a dataset.\"\"\"\n",
    "    try:\n",
    "        shape = list(tensor.shape)\n",
    "        dtype = str(tensor.dtype)\n",
    "        data = tensor.tolist()\n",
    "        payload = {\"shape\": shape, \"dtype\": dtype, \"data\": data, \"metadata\": metadata}\n",
    "        response = requests.post(f\"{TENSORUS_API_URL}/datasets/{dataset_name}/ingest\", json=payload)\n",
    "        response.raise_for_status()\n",
    "        return response.json()\n",
    "    except requests.exceptions.RequestException as e:\n",
    "        print(f\"Error ingesting tensor: {e}\")\n",
    "        return {\"error\": str(e)}\n",
    "\n",
    "def get_dataset(dataset_name: str) -> Dict[str, Any]:\n",
    "    \"\"\"Retrieve dataset information.\"\"\"\n",
    "    try:\n",
    "        response = requests.get(f\"{TENSORUS_API_URL}/datasets/{dataset_name}/fetch\")\n",
    "        response.raise_for_status()\n",
    "        return response.json()\n",
    "    except requests.exceptions.RequestException as e:\n",
    "        print(f\"Error fetching dataset: {e}\")\n",
    "        return {\"error\": str(e)}\n",
    "\n",
    "def add_tensors(dataset_name: str, tensor1_id: str, tensor2_id: str) -> Dict[str, Any]:\n",
    "    \"\"\"Add two tensors together.\"\"\"\n",
    "    try:\n",
    "        payload = {\n",
    "            \"input1\": {\"dataset_name\": dataset_name, \"record_id\": tensor1_id}, \n",
    "            \"input2\": {\"dataset_name\": dataset_name, \"record_id\": tensor2_id}\n",
    "        }\n",
    "        response = requests.post(f\"{TENSORUS_API_URL}/ops/add\", json=payload)\n",
    "        response.raise_for_status()\n",
    "        return response.json()\n",
    "    except requests.exceptions.RequestException as e:\n",
    "        print(f\"Error adding tensors: {e}\")\n",
    "        return {\"error\": str(e)}\n",
    "\n",
    "# Check if server is running\n",
    "if check_server_status():\n",
    "    print(\"✅ Tensorus server is running!\")\n",
    "else:\n",
    "    print(\"❌ Tensorus server is not running. Please start it first.\")"
   ]
  },
  {
   "cell_type": "markdown",
   "metadata": {},
   "source": [
    "### Create a Dataset\n",
    "\n",
    "Let's create our first dataset to store tensors."
   ]
  },
  {
   "cell_type": "code",
   "execution_count": null,
   "metadata": {},
   "outputs": [],
   "source": [
    "# Create a new dataset\n",
    "result = create_dataset(\"my_first_dataset\")\n",
    "print(\"Dataset creation result:\")\n",
    "print(json.dumps(result, indent=2))"
   ]
  },
  {
   "cell_type": "markdown",
   "metadata": {},
   "source": [
    "### Ingest some Tensors\n",
    "\n",
    "Now let's create and ingest some sample tensors with rich metadata."
   ]
  },
  {
   "cell_type": "code",
   "execution_count": null,
   "metadata": {},
   "outputs": [],
   "source": [
    "# Create sample tensors\n",
    "tensor1 = np.array([[1, 2], [3, 4]], dtype=np.float32)\n",
    "tensor2 = np.array([[5, 6], [7, 8]], dtype=np.float32)\n",
    "\n",
    "print(f\"Tensor 1 shape: {tensor1.shape}, dtype: {tensor1.dtype}\")\n",
    "print(f\"Tensor 1 data:\\n{tensor1}\")\n",
    "print()\n",
    "print(f\"Tensor 2 shape: {tensor2.shape}, dtype: {tensor2.dtype}\")\n",
    "print(f\"Tensor 2 data:\\n{tensor2}\")\n",
    "\n",
    "# Ingest tensors with metadata\n",
    "result1 = ingest_tensor(\"my_first_dataset\", tensor1, {\n",
    "    \"name\": \"tensor1\", \n",
    "    \"description\": \"First sample tensor\",\n",
    "    \"created_by\": \"tutorial\",\n",
    "    \"version\": 1\n",
    "})\n",
    "\n",
    "result2 = ingest_tensor(\"my_first_dataset\", tensor2, {\n",
    "    \"name\": \"tensor2\", \n",
    "    \"description\": \"Second sample tensor\",\n",
    "    \"created_by\": \"tutorial\",\n",
    "    \"version\": 1\n",
    "})\n",
    "\n",
    "print(\"\\nIngestion results:\")\n",
    "print(\"Tensor 1:\", json.dumps(result1, indent=2))\n",
    "print(\"Tensor 2:\", json.dumps(result2, indent=2))"
   ]
  },
  {
   "cell_type": "markdown",
   "metadata": {},
   "source": [
    "### View the Dataset\n",
    "\n",
    "Let's examine what's stored in our dataset."
   ]
  },
  {
   "cell_type": "code",
   "execution_count": null,
   "metadata": {},
   "outputs": [],
   "source": [
    "# Fetch dataset information\n",
    "dataset_info = get_dataset(\"my_first_dataset\")\n",
    "print(\"Dataset information:\")\n",
    "print(json.dumps(dataset_info, indent=2))\n",
    "\n",
    "# Display summary statistics\n",
    "if \"data\" in dataset_info and isinstance(dataset_info[\"data\"], list):\n",
    "    print(f\"\\n📊 Dataset Summary:\")\n",
    "    print(f\"   Total tensors: {len(dataset_info['data'])}\")\n",
    "    for i, tensor_info in enumerate(dataset_info[\"data\"]):\n",
    "        if \"metadata\" in tensor_info:\n",
    "            name = tensor_info[\"metadata\"].get(\"name\", f\"tensor_{i}\")\n",
    "            print(f\"   - {name}: ID {tensor_info.get('record_id', 'unknown')}\")"
   ]
  },
  {
   "cell_type": "markdown",
   "metadata": {},
   "source": [
    "### Perform an Operation\n",
    "\n",
    "Now, let's add the two tensors together using Tensorus operations. We need to get their record IDs first."
   ]
  },
  {
   "cell_type": "code",
   "execution_count": null,
   "metadata": {},
   "outputs": [],
   "source": [
    "# Get dataset and extract tensor IDs\n",
    "dataset = get_dataset(\"my_first_dataset\")\n",
    "\n",
    "if \"data\" in dataset and len(dataset[\"data\"]) >= 2:\n",
    "    tensor1_id = dataset[\"data\"][0][\"record_id\"]\n",
    "    tensor2_id = dataset[\"data\"][1][\"record_id\"]\n",
    "    \n",
    "    print(f\"Tensor 1 ID: {tensor1_id}\")\n",
    "    print(f\"Tensor 2 ID: {tensor2_id}\")\n",
    "    \n",
    "    # Perform tensor addition\n",
    "    addition_result = add_tensors(\"my_first_dataset\", tensor1_id, tensor2_id)\n",
    "    print(\"\\n🧮 Tensor Addition Result:\")\n",
    "    print(json.dumps(addition_result, indent=2))\n",
    "    \n",
    "    # Expected result should be [[6, 8], [10, 12]]\n",
    "    print(\"\\n✨ Expected result: [[6, 8], [10, 12]]\")\nelse:\n",
    "    print(\"❌ Could not find enough tensors in the dataset for the operation.\")"
   ]
  },
  {
   "cell_type": "markdown",
   "metadata": {},
   "source": [
    "## 4. Exploring More Features\n",
    "\n",
    "Let's explore some additional Tensorus capabilities."
   ]
  },
  {
   "cell_type": "code",
   "execution_count": null,
   "metadata": {},
   "outputs": [],
   "source": [
    "# Create a larger tensor for demonstration\n",
    "large_tensor = np.random.rand(100, 100).astype(np.float32)\n",
    "print(f\"Created large tensor with shape: {large_tensor.shape}\")\n",
    "\n",
    "# Ingest with rich metadata\n",
    "large_result = ingest_tensor(\"my_first_dataset\", large_tensor, {\n",
    "    \"name\": \"large_random_tensor\",\n",
    "    \"description\": \"100x100 random tensor for performance testing\",\n",
    "    \"tensor_type\": \"random\",\n",
    "    \"size_mb\": large_tensor.nbytes / (1024 * 1024),\n",
    "    \"created_by\": \"tutorial\",\n",
    "    \"version\": 1\n",
    "})\n",
    "\n",
    "print(\"\\nLarge tensor ingestion result:\")\n",
    "print(json.dumps(large_result, indent=2))"
   ]
  },
  {
   "cell_type": "markdown",
   "metadata": {},
   "source": [
    "## Next Steps\n",
    "\n",
    "Congratulations! 🎉 You have successfully:\n",
    "\n",
    "- ✅ Installed Tensorus\n",
    "- ✅ Started the server\n",
    "- ✅ Created a dataset\n",
    "- ✅ Ingested tensors with metadata\n",
    "- ✅ Performed tensor operations\n",
    "- ✅ Explored performance with larger tensors\n",
    "\n",
    "### What's Next?\n",
    "\n",
    "1. **Advanced Features**: Check out `02_advanced_usage.ipynb` for:\n",
    "   - Natural Language Queries (NQL)\n",
    "   - Agent Framework\n",
    "   - Vector Database capabilities\n",
    "\n",
    "2. **API Documentation**: Visit `http://127.0.0.1:7860/docs` for complete API reference\n",
    "\n",
    "3. **Performance**: Tensorus provides 10-100x performance improvements over traditional tensor storage\n",
    "\n",
    "4. **Production Deployment**: See the main README.md for Docker deployment options\n",
    "\n",
    "### Key Benefits You've Experienced:\n",
    "- 🚀 **Fast tensor operations** with automatic optimization\n",
    "- 🧠 **Rich metadata** support for tensor organization\n",
    "- 🔍 **Easy querying** and retrieval\n",
    "- 📊 **Scalable architecture** for production workloads"
   ]
  }
 ],
 "metadata": {
  "kernelspec": {
   "display_name": "Python 3",
   "language": "python",
   "name": "python3"
  },
  "language_info": {
   "codemirror_mode": {
    "name": "ipython",
    "version": 3
   },
   "file_extension": ".py",
   "mimetype": "text/x-python",
   "name": "python",
   "nbconvert_exporter": "python",
   "pygments_lexer": "ipython3",
   "version": "3.9.7"
  }
 },
 "nbformat": 4,
 "nbformat_minor": 4
}
