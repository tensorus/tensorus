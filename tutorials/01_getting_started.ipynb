{
 "cells": [
  {
   "cell_type": "markdown",
   "metadata": {},
   "source": [
    "# Tensorus: Getting Started\n",
    "\n",
    "Welcome to the Tensorus Getting Started tutorial! This notebook will walk you through the basics of installing Tensorus, starting the server, and performing some basic operations."
   ]
  },
  {
   "cell_type": "markdown",
   "metadata": {},
   "source": [
    "## 1. Installation\n",
    "\n",
    "First, let's install Tensorus using pip. If you have followed the setup instructions in the main `README.md`, you may already have this installed."
   ]
  },
  {
   "cell_type": "code",
   "execution_count": null,
   "metadata": {},
   "outputs": [],
   "source": [
    "!pip install tensorus"
   ]
  },
  {
   "cell_type": "markdown",
   "metadata": {},
   "source": [
    "## 2. Start the Tensorus Server\n",
    "\n",
    "Now, let's start the Tensorus server. You can do this from your terminal using the `tensorus` CLI."
   ]
  },
  {
   "cell_type": "code",
   "execution_count": null,
   "metadata": {},
   "outputs": [],
   "source": [
    "!tensorus start"
   ]
  },
  {
   "cell_type": "markdown",
   "metadata": {},
   "source": [
    "## 3. Interacting with the Tensorus API\n",
    "\n",
    "Now that the server is running, we can interact with it using the Python client."
   ]
  },
  {
   "cell_type": "code",
   "execution_count": null,
   "metadata": {},
   "outputs": [],
   "source": [
    "import requests\n",
    "import numpy as np\n",
    "\n",
    "TENSORUS_API_URL = \"http://127.0.0.1:7860\"\n",
    "\n",
    "def create_dataset(name):\n",
    "    response = requests.post(f\"{TENSORUS_API_URL}/datasets/create\", json={"name": name})\n",
    "    return response.json()\n",
    "\n",
    "def ingest_tensor(dataset_name, tensor, metadata):\n",
    "    shape = list(tensor.shape)\n",
    "    dtype = str(tensor.dtype)\n",
    "    data = tensor.tolist()\n",
    "    payload = {\"shape\": shape, \"dtype\": dtype, \"data\": data, \"metadata\": metadata}\n",
    "    response = requests.post(f\"{TENSORUS_API_URL}/datasets/{dataset_name}/ingest\", json=payload)\n",
    "    return response.json()\n",
    "\n",
    "def get_dataset(dataset_name):\n",
    "    response = requests.get(f\"{TENSORUS_API_URL}/datasets/{dataset_name}/fetch\")\n",
    "    return response.json()\n",
    "\n",
    "def add_tensors(dataset_name, tensor1_id, tensor2_id):\n",
    "    payload = {\"input1\": {\"dataset_name\": dataset_name, \"record_id\": tensor1_id}, \"input2\": {\"dataset_name\": dataset_name, \"record_id\": tensor2_id}}\n",
    "    response = requests.post(f\"{TENSORUS_API_URL}/ops/add\", json=payload)\n",
    "    return response.json()"
   ]
  },
  {
   "cell_type": "markdown",
   "metadata": {},
   "source": [
    "### Create a Dataset"
   ]
  },
  {
   "cell_type": "code",
   "execution_count": null,
   "metadata": {},
   "outputs": [],
   "source": [
    "create_dataset(\"my_first_dataset\")"
   ]
  },
  {
   "cell_type": "markdown",
   "metadata": {},
   "source": [
    "### Ingest some Tensors"
   ]
  },
  {
   "cell_type": "code",
   "execution_count": null,
   "metadata": {},
   "outputs": [],
   "source": [
    "tensor1 = np.array([[1, 2], [3, 4]])\n",
    "tensor2 = np.array([[5, 6], [7, 8]])\n",
    "\n",
    "ingest_tensor(\"my_first_dataset\", tensor1, {\"name\": \"tensor1\"})\n",
    "ingest_tensor(\"my_first_dataset\", tensor2, {\"name\": \"tensor2\"})"
   ]
  },
  {
   "cell_type": "markdown",
   "metadata": {},
   "source": [
    "### View the Dataset"
   ]
  },
  {
   "cell_type": "code",
   "execution_count": null,
   "metadata": {},
   "outputs": [],
   "source": [
    "get_dataset(\"my_first_dataset\")"
   ]
  },
  {
   "cell_type": "markdown",
   "metadata": {},
   "source": [
    "### Perform an Operation\n",
    "\n",
    "Now, let's add the two tensors together. We need to get their record IDs first."
   ]
  },
  {
   "cell_type": "code",
   "execution_count": null,
   "metadata": {},
   "outputs": [],
   "source": [
    "dataset = get_dataset(\"my_first_dataset\")\n",
    "tensor1_id = dataset[\"data\"][0][\"record_id\"]\n",
    "tensor2_id = dataset[\"data\"][1][\"record_id\"]\n",
    "\n",
    "add_tensors(\"my_first_dataset\", tensor1_id, tensor2_id)"
   ]
  },
  {
   "cell_type": "markdown",
   "metadata": {},
   "source": [
    "## Next Steps\n",
    "\n",
    "Congratulations! you have successfully installed Tensorus, started the server, and performed some basic operations. For more advanced usage, check out the `02_advanced_usage.ipynb` tutorial."
   ]
  }
 ],
 "metadata": {
  "kernelspec": {
   "display_name": "Python 3",
   "language": "python",
   "name": "python3"
  },
  "language_info": {
   "codemirror_mode": {
    "name": "ipython",
    "version": 3
   },
   "file_extension": ".py",
   "mimetype": "text/x-python",
   "name": "python",
   "nbconvert_exporter": "python",
   "pygments_lexer": "ipython3",
   "version": "3.9.7"
  }
 },
 "nbformat": 4,
 "nbformat_minor": 4
}
